{
 "cells": [
  {
   "cell_type": "code",
   "execution_count": 1,
   "metadata": {},
   "outputs": [],
   "source": [
    "import requests\n",
    "import json\n",
    "import pandas as pd\n",
    "import matplotlib.pyplot as plt"
   ]
  },
  {
   "cell_type": "code",
   "execution_count": 2,
   "metadata": {},
   "outputs": [],
   "source": [
    "api_key=\"3gBEEMzNt6vFQUXU51pwSu0CABVWNYnug8hnk_F7kcUlcNMkfoIj0U12NZlrusGB1-mxc5sHFav_DxthHzEdlBTmKpTEQSBPqe3pAZHHijQWZaaX8QKaorVCKFIPXnYx\""
   ]
  },
  {
   "cell_type": "code",
   "execution_count": 3,
   "metadata": {},
   "outputs": [],
   "source": [
    "s_url='https://api.yelp.com/v3/businesses/search'"
   ]
  },
  {
   "cell_type": "code",
   "execution_count": 4,
   "metadata": {},
   "outputs": [],
   "source": [
    "s_headers = {'Authorization': 'Bearer %s' % api_key}"
   ]
  },
  {
   "cell_type": "code",
   "execution_count": 5,
   "metadata": {},
   "outputs": [],
   "source": [
    "name_l=[]\n",
    "id_l=[]\n",
    "rating_l=[]\n",
    "address_l=[]\n",
    "phone_l=[]\n",
    "review_l=[]\n",
    "lat_l=[]\n",
    "long_l=[]\n",
    "price_l=[]\n",
    "i=0\n",
    "count=0"
   ]
  },
  {
   "cell_type": "code",
   "execution_count": 6,
   "metadata": {},
   "outputs": [],
   "source": [
    "\n",
    "for i in range(20):\n",
    "    #print(i)\n",
    "    #print(count)\n",
    "    parameters={'term':'coffee',\n",
    "                'limit':50,\n",
    "                'radius':40000,\n",
    "                'offset':count,\n",
    "                'location':'Atlanta'}\n",
    "    response=requests.get(url=s_url,params=parameters, headers=s_headers)\n",
    "    business_data=response.json()\n",
    "    count=count+50\n",
    "    for biz in business_data['businesses']:\n",
    "        try:\n",
    "            name_l.append(biz[\"name\"])\n",
    "            id_l.append(biz[\"id\"])\n",
    "            rating_l.append(biz[\"rating\"])\n",
    "            review_l.append(biz[\"review_count\"])\n",
    "            address_l.append(\" \".join(biz[\"location\"][\"display_address\"]))\n",
    "            phone_l.append(biz[\"phone\"])\n",
    "            lat_l.append(biz[\"coordinates\"][\"latitude\"])\n",
    "            long_l.append(biz[\"coordinates\"][\"longitude\"])\n",
    "\n",
    "        except KeyError:\n",
    "#             print('Skipping\\n')\n",
    "            lat_l.append(\"N/A\")\n",
    "            long_l.append(\"N/A\")\n",
    "            #  for biz in business_data['businesses']:\n",
    "        try:\n",
    "            price_l.append(biz[\"price\"])\n",
    "        \n",
    "\n",
    "        except KeyError:\n",
    "#             print('Skipping\\n')\n",
    "            price_l.append(\"N/A\")\n",
    "        \n",
    "        \n",
    "        \n",
    "        \n"
   ]
  },
  {
   "cell_type": "code",
   "execution_count": 7,
   "metadata": {},
   "outputs": [
    {
     "data": {
      "text/plain": [
       "1000"
      ]
     },
     "execution_count": 7,
     "metadata": {},
     "output_type": "execute_result"
    }
   ],
   "source": [
    "len(address_l)"
   ]
  },
  {
   "cell_type": "code",
   "execution_count": 8,
   "metadata": {},
   "outputs": [
    {
     "data": {
      "text/plain": [
       "1000"
      ]
     },
     "execution_count": 8,
     "metadata": {},
     "output_type": "execute_result"
    }
   ],
   "source": [
    "len(lat_l)"
   ]
  },
  {
   "cell_type": "code",
   "execution_count": 9,
   "metadata": {},
   "outputs": [],
   "source": [
    "biz_df= pd.DataFrame({\n",
    "    'ID':id_l,\n",
    "    'Name':name_l,\n",
    "    'Rating':rating_l,\n",
    "    'Review_Count':review_l,\n",
    "    'Address':address_l,\n",
    "    'Phone':phone_l,\n",
    "    'Latitude':lat_l,\n",
    "    'Longitude':long_l,\n",
    "    'Price':price_l\n",
    "})    "
   ]
  },
  {
   "cell_type": "code",
   "execution_count": 10,
   "metadata": {},
   "outputs": [
    {
     "data": {
      "text/html": [
       "<div>\n",
       "<style scoped>\n",
       "    .dataframe tbody tr th:only-of-type {\n",
       "        vertical-align: middle;\n",
       "    }\n",
       "\n",
       "    .dataframe tbody tr th {\n",
       "        vertical-align: top;\n",
       "    }\n",
       "\n",
       "    .dataframe thead th {\n",
       "        text-align: right;\n",
       "    }\n",
       "</style>\n",
       "<table border=\"1\" class=\"dataframe\">\n",
       "  <thead>\n",
       "    <tr style=\"text-align: right;\">\n",
       "      <th></th>\n",
       "      <th>ID</th>\n",
       "      <th>Name</th>\n",
       "      <th>Rating</th>\n",
       "      <th>Review_Count</th>\n",
       "      <th>Address</th>\n",
       "      <th>Phone</th>\n",
       "      <th>Latitude</th>\n",
       "      <th>Longitude</th>\n",
       "      <th>Price</th>\n",
       "    </tr>\n",
       "  </thead>\n",
       "  <tbody>\n",
       "    <tr>\n",
       "      <th>0</th>\n",
       "      <td>TSxdVJQIDR7fqPzAzlT79A</td>\n",
       "      <td>East Pole Coffee Co.</td>\n",
       "      <td>4.5</td>\n",
       "      <td>139</td>\n",
       "      <td>255 Ottley Dr Ste 105 Atlanta, GA 30324</td>\n",
       "      <td>+14049396498</td>\n",
       "      <td>33.810810</td>\n",
       "      <td>-84.378460</td>\n",
       "      <td>$</td>\n",
       "    </tr>\n",
       "    <tr>\n",
       "      <th>1</th>\n",
       "      <td>6LSnmy57Q2iUO5ObbrhsBQ</td>\n",
       "      <td>Moonbird Coffee</td>\n",
       "      <td>5.0</td>\n",
       "      <td>112</td>\n",
       "      <td>5394 Peachtree Rd Atlanta, GA 30341</td>\n",
       "      <td>+16783327280</td>\n",
       "      <td>33.892212</td>\n",
       "      <td>-84.300966</td>\n",
       "      <td>$</td>\n",
       "    </tr>\n",
       "    <tr>\n",
       "      <th>2</th>\n",
       "      <td>_0jwczJo5LaSo8e6liyS4Q</td>\n",
       "      <td>Brash Coffee</td>\n",
       "      <td>4.5</td>\n",
       "      <td>44</td>\n",
       "      <td>130 W Paces Ferry Rd NW Atlanta, GA 30305</td>\n",
       "      <td>+19144093991</td>\n",
       "      <td>33.842003</td>\n",
       "      <td>-84.386072</td>\n",
       "      <td>$$</td>\n",
       "    </tr>\n",
       "    <tr>\n",
       "      <th>3</th>\n",
       "      <td>FVHhIm3Qgtj1xlOUuD5yXA</td>\n",
       "      <td>Ébrìk Coffee Room</td>\n",
       "      <td>4.5</td>\n",
       "      <td>320</td>\n",
       "      <td>22 Park Pl Atlanta, GA 30303</td>\n",
       "      <td>+14043300119</td>\n",
       "      <td>33.755586</td>\n",
       "      <td>-84.388104</td>\n",
       "      <td>$</td>\n",
       "    </tr>\n",
       "    <tr>\n",
       "      <th>4</th>\n",
       "      <td>byuYfWgUbep6tQiH3F5Yjw</td>\n",
       "      <td>Chattahoochee Coffee Company</td>\n",
       "      <td>4.5</td>\n",
       "      <td>358</td>\n",
       "      <td>6640 Akers Mill Rd SE Atlanta, GA 30339</td>\n",
       "      <td>+17709550788</td>\n",
       "      <td>33.896602</td>\n",
       "      <td>-84.445083</td>\n",
       "      <td>$</td>\n",
       "    </tr>\n",
       "  </tbody>\n",
       "</table>\n",
       "</div>"
      ],
      "text/plain": [
       "                       ID                          Name  Rating  Review_Count  \\\n",
       "0  TSxdVJQIDR7fqPzAzlT79A          East Pole Coffee Co.     4.5           139   \n",
       "1  6LSnmy57Q2iUO5ObbrhsBQ               Moonbird Coffee     5.0           112   \n",
       "2  _0jwczJo5LaSo8e6liyS4Q                  Brash Coffee     4.5            44   \n",
       "3  FVHhIm3Qgtj1xlOUuD5yXA             Ébrìk Coffee Room     4.5           320   \n",
       "4  byuYfWgUbep6tQiH3F5Yjw  Chattahoochee Coffee Company     4.5           358   \n",
       "\n",
       "                                     Address         Phone   Latitude  \\\n",
       "0    255 Ottley Dr Ste 105 Atlanta, GA 30324  +14049396498  33.810810   \n",
       "1        5394 Peachtree Rd Atlanta, GA 30341  +16783327280  33.892212   \n",
       "2  130 W Paces Ferry Rd NW Atlanta, GA 30305  +19144093991  33.842003   \n",
       "3               22 Park Pl Atlanta, GA 30303  +14043300119  33.755586   \n",
       "4    6640 Akers Mill Rd SE Atlanta, GA 30339  +17709550788  33.896602   \n",
       "\n",
       "   Longitude Price  \n",
       "0 -84.378460     $  \n",
       "1 -84.300966     $  \n",
       "2 -84.386072    $$  \n",
       "3 -84.388104     $  \n",
       "4 -84.445083     $  "
      ]
     },
     "execution_count": 10,
     "metadata": {},
     "output_type": "execute_result"
    }
   ],
   "source": [
    "biz_df.head()"
   ]
  },
  {
   "cell_type": "code",
   "execution_count": 11,
   "metadata": {},
   "outputs": [],
   "source": [
    "file_name=\"yelp_ATLAllcoffee.csv\""
   ]
  },
  {
   "cell_type": "code",
   "execution_count": 12,
   "metadata": {},
   "outputs": [],
   "source": [
    "biz_df.to_csv(file_name, encoding='utf-8', index=False)"
   ]
  },
  {
   "cell_type": "code",
   "execution_count": null,
   "metadata": {},
   "outputs": [],
   "source": []
  }
 ],
 "metadata": {
  "kernelspec": {
   "display_name": "Python 3",
   "language": "python",
   "name": "python3"
  },
  "language_info": {
   "codemirror_mode": {
    "name": "ipython",
    "version": 3
   },
   "file_extension": ".py",
   "mimetype": "text/x-python",
   "name": "python",
   "nbconvert_exporter": "python",
   "pygments_lexer": "ipython3",
   "version": "3.7.3"
  }
 },
 "nbformat": 4,
 "nbformat_minor": 4
}
